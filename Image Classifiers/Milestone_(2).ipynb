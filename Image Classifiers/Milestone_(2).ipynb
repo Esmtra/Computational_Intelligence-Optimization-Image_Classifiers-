{
  "cells": [
    {
      "cell_type": "markdown",
      "metadata": {
        "id": "view-in-github",
        "colab_type": "text"
      },
      "source": [
        "<a href=\"https://colab.research.google.com/github/Esmtra/Computational_Intelligence-Optimization-Image_Classifiers-/blob/main/Milestone_(2).ipynb\" target=\"_parent\"><img src=\"https://colab.research.google.com/assets/colab-badge.svg\" alt=\"Open In Colab\"/></a>"
      ]
    },
    {
      "cell_type": "markdown",
      "metadata": {
        "id": "5-5pIcQ4YDTy"
      },
      "source": [
        "\n",
        "**Team Names**\n",
        "\n",
        "Eslam Sayed Rady                                                                   1902236  \n",
        "Mohamed Hussein Adel                                                        1802683\n",
        "\n",
        "Abdelrahman Adel Saeed                                                     1805626\n",
        "\n"
      ]
    },
    {
      "cell_type": "markdown",
      "metadata": {
        "id": "4dS4qgLoYAOh"
      },
      "source": [
        "***   Over View   ***"
      ]
    },
    {
      "cell_type": "markdown",
      "metadata": {
        "id": "LhB6gi_IYfee"
      },
      "source": [
        "It's a major task for Computational Intelligence course 2022"
      ]
    },
    {
      "cell_type": "markdown",
      "metadata": {
        "id": "jP2gAFiNY7Ca"
      },
      "source": [
        "Second milestone : The aim of this project is to create and train a multilayer Neural Network to\n",
        "classify an image into its corresponding category.\n"
      ]
    },
    {
      "cell_type": "markdown",
      "source": [
        "# Import Libraries"
      ],
      "metadata": {
        "id": "MHtLLZ_QtZtq"
      }
    },
    {
      "cell_type": "code",
      "source": [
        "import tensorflow as tf\n",
        "from tensorflow.keras.datasets import cifar10\n",
        "from tensorflow.keras.models import Sequential\n",
        "from tensorflow.keras.layers import Dense, Flatten, Conv2D, MaxPooling2D\n",
        "from tensorflow.keras import optimizers\n",
        "import matplotlib.pyplot as plt"
      ],
      "metadata": {
        "id": "wxW58Nk3upmJ"
      },
      "execution_count": null,
      "outputs": []
    },
    {
      "cell_type": "markdown",
      "source": [
        "# Model Configuration\n"
      ],
      "metadata": {
        "id": "lNk723m8uvWg"
      }
    },
    {
      "cell_type": "code",
      "source": [
        "BATCH_SIZE = 50\n",
        "IMG_WIDTH, IMG_HEIGHT, IMG_NUM_CHANNELS = 32, 32, 3\n",
        "LOSS_FUNCTION = tf.keras.losses.SparseCategoricalCrossentropy()\n",
        "NUM_CLASSES = 10\n",
        "NUM_EPOCHS = 100\n",
        "OPTIMIZER = optimizers.Adam()\n",
        "VALIDATION_SPLIT = 0.2\n",
        "VERBOSITY = 1\n"
      ],
      "metadata": {
        "id": "YIH6dzGWu1Oa"
      },
      "execution_count": null,
      "outputs": []
    },
    {
      "cell_type": "markdown",
      "source": [
        "# Load CIFAR-10 data\n"
      ],
      "metadata": {
        "id": "N1tKEE6Ru3ia"
      }
    },
    {
      "cell_type": "code",
      "source": [
        "(input_train, target_train), (input_test, target_test) = cifar10.load_data()\n"
      ],
      "metadata": {
        "id": "yInpc3XXu9ta"
      },
      "execution_count": null,
      "outputs": []
    },
    {
      "cell_type": "markdown",
      "source": [
        "# Determine shape of the data"
      ],
      "metadata": {
        "id": "lC8NtnHCvBem"
      }
    },
    {
      "cell_type": "code",
      "source": [
        "input_shape = (IMG_WIDTH, IMG_HEIGHT, IMG_NUM_CHANNELS)\n"
      ],
      "metadata": {
        "id": "o_RJloo2vF_S"
      },
      "execution_count": null,
      "outputs": []
    },
    {
      "cell_type": "markdown",
      "source": [
        "# Parse numbers as floats\n"
      ],
      "metadata": {
        "id": "Gn_CSRkJvJpS"
      }
    },
    {
      "cell_type": "code",
      "source": [
        "input_train = input_train.astype('float32')\n",
        "input_test = input_test.astype('float32')\n"
      ],
      "metadata": {
        "id": "RC1K0UHWvNzi"
      },
      "execution_count": null,
      "outputs": []
    },
    {
      "cell_type": "markdown",
      "source": [
        "# Normalize data\n"
      ],
      "metadata": {
        "id": "pmKimaY-vVDi"
      }
    },
    {
      "cell_type": "code",
      "source": [
        "input_train = input_train / 255\n",
        "input_test = input_test / 255"
      ],
      "metadata": {
        "id": "pIAMifC6vXiK"
      },
      "execution_count": null,
      "outputs": []
    },
    {
      "cell_type": "markdown",
      "source": [
        "# Create the model\n"
      ],
      "metadata": {
        "id": "bJAxtz8XvaZC"
      }
    },
    {
      "cell_type": "code",
      "source": [
        "model = Sequential()\n",
        "\n",
        "# First convolutional layer with 32 filters, a kernel size of (3, 3), and ReLU activation\n",
        "model.add(Conv2D(32, kernel_size=(3, 3), activation='relu', input_shape=input_shape))\n",
        "\n",
        "# First max pooling layer with a pool size of (2, 2)\n",
        "model.add(MaxPooling2D(pool_size=(2, 2)))\n",
        "\n",
        "# Second convolutional layer with 64 filters, a kernel size of (3, 3), and ReLU activation\n",
        "model.add(Conv2D(64, kernel_size=(3, 3), activation='relu'))\n",
        "\n",
        "# Second max pooling layer with a pool size of (2, 2)\n",
        "model.add(MaxPooling2D(pool_size=(2, 2)))\n",
        "\n",
        "# Third convolutional layer with 128 filters, a kernel size of (3, 3), and ReLU activation\n",
        "model.add(Conv2D(128, kernel_size=(3, 3), activation='relu'))\n",
        "\n",
        "# Third max pooling layer with a pool size of (2, 2)\n",
        "model.add(MaxPooling2D(pool_size=(2, 2)))\n",
        "\n",
        "# Flatten layer reshape the output to 1-D array\n",
        "model.add(Flatten())\n",
        "\n",
        "# First fully connected layer with 256 neurons and ReLU activation\n",
        "model.add(Dense(256, activation='relu'))\n",
        "\n",
        "# Second fully connected layer with 128 neurons and ReLU activation\n",
        "model.add(Dense(128, activation='relu'))\n",
        "\n",
        "# Output layer with NUM_CLASSES neurons and softmax activation\n",
        "model.add(Dense(NUM_CLASSES, activation='softmax'))"
      ],
      "metadata": {
        "id": "ywFC0xJqvd7s"
      },
      "execution_count": null,
      "outputs": []
    },
    {
      "cell_type": "markdown",
      "source": [
        "# Compile the model"
      ],
      "metadata": {
        "id": "vsaKuRsLvhUc"
      }
    },
    {
      "cell_type": "code",
      "source": [
        "model.compile(loss=LOSS_FUNCTION,\n",
        "              optimizer=OPTIMIZER,\n",
        "              metrics=['accuracy'])\n"
      ],
      "metadata": {
        "id": "puMJYBDOvj-k"
      },
      "execution_count": null,
      "outputs": []
    },
    {
      "cell_type": "markdown",
      "source": [
        "# Fit data to model"
      ],
      "metadata": {
        "id": "o_XcCFzkvmNE"
      }
    },
    {
      "cell_type": "code",
      "source": [
        "history = model.fit(input_train, target_train,\n",
        "            batch_size=BATCH_SIZE,\n",
        "            epochs=NUM_EPOCHS,\n",
        "            verbose=VERBOSITY,\n",
        "            validation_split=VALIDATION_SPLIT)"
      ],
      "metadata": {
        "colab": {
          "base_uri": "https://localhost:8080/"
        },
        "id": "5Rm8RfJ7voL0",
        "outputId": "619901d9-cd29-4fd0-ad7e-b2292050a852"
      },
      "execution_count": null,
      "outputs": [
        {
          "output_type": "stream",
          "name": "stdout",
          "text": [
            "Epoch 1/100\n",
            "800/800 [==============================] - 66s 81ms/step - loss: 1.6018 - accuracy: 0.4065 - val_loss: 1.3212 - val_accuracy: 0.5197\n",
            "Epoch 2/100\n",
            "800/800 [==============================] - 65s 81ms/step - loss: 1.2082 - accuracy: 0.5687 - val_loss: 1.1219 - val_accuracy: 0.6097\n",
            "Epoch 3/100\n",
            "800/800 [==============================] - 63s 79ms/step - loss: 1.0333 - accuracy: 0.6352 - val_loss: 1.0059 - val_accuracy: 0.6482\n",
            "Epoch 4/100\n",
            "800/800 [==============================] - 64s 80ms/step - loss: 0.9122 - accuracy: 0.6790 - val_loss: 0.9253 - val_accuracy: 0.6808\n",
            "Epoch 5/100\n",
            "800/800 [==============================] - 65s 81ms/step - loss: 0.8152 - accuracy: 0.7122 - val_loss: 0.9064 - val_accuracy: 0.6874\n",
            "Epoch 6/100\n",
            "800/800 [==============================] - 64s 79ms/step - loss: 0.7445 - accuracy: 0.7372 - val_loss: 0.9089 - val_accuracy: 0.6871\n",
            "Epoch 7/100\n",
            "800/800 [==============================] - 63s 79ms/step - loss: 0.6722 - accuracy: 0.7663 - val_loss: 0.8922 - val_accuracy: 0.6935\n",
            "Epoch 8/100\n",
            "800/800 [==============================] - 64s 80ms/step - loss: 0.6125 - accuracy: 0.7845 - val_loss: 0.8957 - val_accuracy: 0.6967\n",
            "Epoch 9/100\n",
            "800/800 [==============================] - 63s 79ms/step - loss: 0.5544 - accuracy: 0.8051 - val_loss: 0.9482 - val_accuracy: 0.6925\n",
            "Epoch 10/100\n",
            "800/800 [==============================] - 63s 79ms/step - loss: 0.4996 - accuracy: 0.8259 - val_loss: 0.9299 - val_accuracy: 0.7074\n",
            "Epoch 11/100\n",
            "800/800 [==============================] - 63s 79ms/step - loss: 0.4490 - accuracy: 0.8406 - val_loss: 0.9422 - val_accuracy: 0.7118\n",
            "Epoch 12/100\n",
            "800/800 [==============================] - 65s 81ms/step - loss: 0.4097 - accuracy: 0.8562 - val_loss: 1.0204 - val_accuracy: 0.6989\n",
            "Epoch 13/100\n",
            "800/800 [==============================] - 63s 79ms/step - loss: 0.3690 - accuracy: 0.8681 - val_loss: 1.0042 - val_accuracy: 0.7091\n",
            "Epoch 14/100\n",
            "800/800 [==============================] - 63s 78ms/step - loss: 0.3279 - accuracy: 0.8834 - val_loss: 1.1063 - val_accuracy: 0.7005\n",
            "Epoch 15/100\n",
            "800/800 [==============================] - 65s 81ms/step - loss: 0.2897 - accuracy: 0.8964 - val_loss: 1.1806 - val_accuracy: 0.7053\n",
            "Epoch 16/100\n",
            "800/800 [==============================] - 64s 80ms/step - loss: 0.2712 - accuracy: 0.9040 - val_loss: 1.2936 - val_accuracy: 0.6981\n",
            "Epoch 17/100\n",
            "800/800 [==============================] - 63s 79ms/step - loss: 0.2294 - accuracy: 0.9169 - val_loss: 1.4282 - val_accuracy: 0.7015\n",
            "Epoch 18/100\n",
            "800/800 [==============================] - 65s 81ms/step - loss: 0.2136 - accuracy: 0.9239 - val_loss: 1.3345 - val_accuracy: 0.7048\n",
            "Epoch 19/100\n",
            "800/800 [==============================] - 63s 79ms/step - loss: 0.1937 - accuracy: 0.9319 - val_loss: 1.3895 - val_accuracy: 0.7012\n",
            "Epoch 20/100\n",
            "800/800 [==============================] - 63s 79ms/step - loss: 0.1853 - accuracy: 0.9336 - val_loss: 1.5076 - val_accuracy: 0.7021\n",
            "Epoch 21/100\n",
            "800/800 [==============================] - 64s 80ms/step - loss: 0.1623 - accuracy: 0.9431 - val_loss: 1.5254 - val_accuracy: 0.7107\n",
            "Epoch 22/100\n",
            "800/800 [==============================] - 63s 79ms/step - loss: 0.1562 - accuracy: 0.9436 - val_loss: 1.6374 - val_accuracy: 0.7035\n",
            "Epoch 23/100\n",
            "800/800 [==============================] - 63s 78ms/step - loss: 0.1583 - accuracy: 0.9434 - val_loss: 1.7118 - val_accuracy: 0.6938\n",
            "Epoch 24/100\n",
            "800/800 [==============================] - 64s 79ms/step - loss: 0.1301 - accuracy: 0.9537 - val_loss: 1.7847 - val_accuracy: 0.7038\n",
            "Epoch 25/100\n",
            "800/800 [==============================] - 65s 82ms/step - loss: 0.1315 - accuracy: 0.9535 - val_loss: 1.8045 - val_accuracy: 0.6952\n",
            "Epoch 26/100\n",
            "800/800 [==============================] - 62s 77ms/step - loss: 0.1229 - accuracy: 0.9574 - val_loss: 1.8548 - val_accuracy: 0.6974\n",
            "Epoch 27/100\n",
            "800/800 [==============================] - 63s 78ms/step - loss: 0.1159 - accuracy: 0.9587 - val_loss: 1.8515 - val_accuracy: 0.7042\n",
            "Epoch 28/100\n",
            "800/800 [==============================] - 65s 81ms/step - loss: 0.1164 - accuracy: 0.9602 - val_loss: 1.8792 - val_accuracy: 0.6997\n",
            "Epoch 29/100\n",
            "800/800 [==============================] - 62s 77ms/step - loss: 0.1163 - accuracy: 0.9602 - val_loss: 1.9218 - val_accuracy: 0.7011\n",
            "Epoch 30/100\n",
            "800/800 [==============================] - 64s 80ms/step - loss: 0.1106 - accuracy: 0.9626 - val_loss: 1.9328 - val_accuracy: 0.6987\n",
            "Epoch 31/100\n",
            "800/800 [==============================] - 67s 84ms/step - loss: 0.0948 - accuracy: 0.9685 - val_loss: 2.0350 - val_accuracy: 0.7046\n",
            "Epoch 32/100\n",
            "800/800 [==============================] - 67s 83ms/step - loss: 0.1149 - accuracy: 0.9607 - val_loss: 1.9573 - val_accuracy: 0.7073\n",
            "Epoch 33/100\n",
            "800/800 [==============================] - 64s 79ms/step - loss: 0.1079 - accuracy: 0.9625 - val_loss: 1.9584 - val_accuracy: 0.7022\n",
            "Epoch 34/100\n",
            "800/800 [==============================] - 65s 81ms/step - loss: 0.0996 - accuracy: 0.9663 - val_loss: 2.0805 - val_accuracy: 0.7047\n",
            "Epoch 35/100\n",
            "800/800 [==============================] - 64s 80ms/step - loss: 0.0913 - accuracy: 0.9694 - val_loss: 2.0578 - val_accuracy: 0.6946\n",
            "Epoch 36/100\n",
            "800/800 [==============================] - 63s 79ms/step - loss: 0.1070 - accuracy: 0.9658 - val_loss: 2.1132 - val_accuracy: 0.6973\n",
            "Epoch 37/100\n",
            "800/800 [==============================] - 64s 80ms/step - loss: 0.0825 - accuracy: 0.9724 - val_loss: 2.1857 - val_accuracy: 0.7050\n",
            "Epoch 38/100\n",
            "800/800 [==============================] - 64s 80ms/step - loss: 0.0840 - accuracy: 0.9714 - val_loss: 2.2887 - val_accuracy: 0.7008\n",
            "Epoch 39/100\n",
            "800/800 [==============================] - 64s 80ms/step - loss: 0.1009 - accuracy: 0.9669 - val_loss: 2.1454 - val_accuracy: 0.7029\n",
            "Epoch 40/100\n",
            "800/800 [==============================] - 66s 82ms/step - loss: 0.0821 - accuracy: 0.9725 - val_loss: 2.2332 - val_accuracy: 0.6975\n",
            "Epoch 41/100\n",
            "800/800 [==============================] - 66s 83ms/step - loss: 0.1080 - accuracy: 0.9642 - val_loss: 2.1741 - val_accuracy: 0.7020\n",
            "Epoch 42/100\n",
            "800/800 [==============================] - 63s 79ms/step - loss: 0.0617 - accuracy: 0.9798 - val_loss: 2.3808 - val_accuracy: 0.6977\n",
            "Epoch 43/100\n",
            "800/800 [==============================] - 64s 80ms/step - loss: 0.0957 - accuracy: 0.9680 - val_loss: 2.2344 - val_accuracy: 0.6992\n",
            "Epoch 44/100\n",
            "800/800 [==============================] - 65s 81ms/step - loss: 0.0842 - accuracy: 0.9721 - val_loss: 2.2723 - val_accuracy: 0.6969\n",
            "Epoch 45/100\n",
            "800/800 [==============================] - 65s 81ms/step - loss: 0.0807 - accuracy: 0.9737 - val_loss: 2.2169 - val_accuracy: 0.7005\n",
            "Epoch 46/100\n",
            "800/800 [==============================] - 64s 80ms/step - loss: 0.0742 - accuracy: 0.9757 - val_loss: 2.4947 - val_accuracy: 0.7012\n",
            "Epoch 47/100\n",
            "800/800 [==============================] - 65s 81ms/step - loss: 0.0864 - accuracy: 0.9717 - val_loss: 2.2981 - val_accuracy: 0.7004\n",
            "Epoch 48/100\n",
            "800/800 [==============================] - 62s 78ms/step - loss: 0.0711 - accuracy: 0.9765 - val_loss: 2.4826 - val_accuracy: 0.6987\n",
            "Epoch 49/100\n",
            "800/800 [==============================] - 67s 83ms/step - loss: 0.0812 - accuracy: 0.9734 - val_loss: 2.3686 - val_accuracy: 0.6968\n",
            "Epoch 50/100\n",
            "800/800 [==============================] - 65s 81ms/step - loss: 0.0785 - accuracy: 0.9739 - val_loss: 2.5228 - val_accuracy: 0.6914\n",
            "Epoch 51/100\n",
            "800/800 [==============================] - 62s 78ms/step - loss: 0.0727 - accuracy: 0.9752 - val_loss: 2.5387 - val_accuracy: 0.6973\n",
            "Epoch 52/100\n",
            "800/800 [==============================] - 62s 78ms/step - loss: 0.0712 - accuracy: 0.9769 - val_loss: 2.4774 - val_accuracy: 0.6999\n",
            "Epoch 53/100\n",
            "800/800 [==============================] - 64s 80ms/step - loss: 0.0792 - accuracy: 0.9740 - val_loss: 2.4536 - val_accuracy: 0.7036\n",
            "Epoch 54/100\n",
            "800/800 [==============================] - 64s 80ms/step - loss: 0.0729 - accuracy: 0.9773 - val_loss: 2.4586 - val_accuracy: 0.6966\n",
            "Epoch 55/100\n",
            "800/800 [==============================] - 63s 79ms/step - loss: 0.0598 - accuracy: 0.9800 - val_loss: 2.6870 - val_accuracy: 0.6972\n",
            "Epoch 56/100\n",
            "800/800 [==============================] - 64s 80ms/step - loss: 0.0811 - accuracy: 0.9734 - val_loss: 2.5257 - val_accuracy: 0.7022\n",
            "Epoch 57/100\n",
            "800/800 [==============================] - 63s 79ms/step - loss: 0.0669 - accuracy: 0.9786 - val_loss: 2.5084 - val_accuracy: 0.7060\n",
            "Epoch 58/100\n",
            "800/800 [==============================] - 62s 78ms/step - loss: 0.0664 - accuracy: 0.9785 - val_loss: 2.5526 - val_accuracy: 0.6992\n",
            "Epoch 59/100\n",
            "800/800 [==============================] - 64s 80ms/step - loss: 0.0730 - accuracy: 0.9756 - val_loss: 2.6551 - val_accuracy: 0.6927\n",
            "Epoch 60/100\n",
            "800/800 [==============================] - 64s 80ms/step - loss: 0.0643 - accuracy: 0.9790 - val_loss: 2.6427 - val_accuracy: 0.6927\n",
            "Epoch 61/100\n",
            "800/800 [==============================] - 62s 78ms/step - loss: 0.0697 - accuracy: 0.9775 - val_loss: 2.4799 - val_accuracy: 0.7022\n",
            "Epoch 62/100\n",
            "800/800 [==============================] - 64s 81ms/step - loss: 0.0643 - accuracy: 0.9788 - val_loss: 2.6240 - val_accuracy: 0.6967\n",
            "Epoch 63/100\n",
            "800/800 [==============================] - 65s 81ms/step - loss: 0.0616 - accuracy: 0.9799 - val_loss: 2.7065 - val_accuracy: 0.6988\n",
            "Epoch 64/100\n",
            "800/800 [==============================] - 63s 78ms/step - loss: 0.0730 - accuracy: 0.9774 - val_loss: 2.7108 - val_accuracy: 0.6999\n",
            "Epoch 65/100\n",
            "800/800 [==============================] - 64s 80ms/step - loss: 0.0640 - accuracy: 0.9793 - val_loss: 2.7073 - val_accuracy: 0.6986\n",
            "Epoch 66/100\n",
            "800/800 [==============================] - 64s 79ms/step - loss: 0.0663 - accuracy: 0.9783 - val_loss: 2.6871 - val_accuracy: 0.7038\n",
            "Epoch 67/100\n",
            "800/800 [==============================] - 63s 79ms/step - loss: 0.0618 - accuracy: 0.9798 - val_loss: 2.7342 - val_accuracy: 0.6988\n",
            "Epoch 68/100\n",
            "800/800 [==============================] - 64s 80ms/step - loss: 0.0585 - accuracy: 0.9813 - val_loss: 2.7387 - val_accuracy: 0.7040\n",
            "Epoch 69/100\n",
            "800/800 [==============================] - 64s 80ms/step - loss: 0.0615 - accuracy: 0.9810 - val_loss: 2.7420 - val_accuracy: 0.6989\n",
            "Epoch 70/100\n",
            "800/800 [==============================] - 62s 78ms/step - loss: 0.0611 - accuracy: 0.9799 - val_loss: 2.7602 - val_accuracy: 0.6938\n",
            "Epoch 71/100\n",
            "800/800 [==============================] - 64s 81ms/step - loss: 0.0597 - accuracy: 0.9806 - val_loss: 2.7855 - val_accuracy: 0.6991\n",
            "Epoch 72/100\n",
            "800/800 [==============================] - 63s 79ms/step - loss: 0.0616 - accuracy: 0.9801 - val_loss: 3.0105 - val_accuracy: 0.6891\n",
            "Epoch 73/100\n",
            "800/800 [==============================] - 63s 78ms/step - loss: 0.0604 - accuracy: 0.9806 - val_loss: 2.9791 - val_accuracy: 0.6862\n",
            "Epoch 74/100\n",
            "800/800 [==============================] - 63s 79ms/step - loss: 0.0669 - accuracy: 0.9799 - val_loss: 2.8233 - val_accuracy: 0.7002\n",
            "Epoch 75/100\n",
            "800/800 [==============================] - 64s 80ms/step - loss: 0.0592 - accuracy: 0.9805 - val_loss: 2.7780 - val_accuracy: 0.6959\n",
            "Epoch 76/100\n",
            "800/800 [==============================] - 63s 78ms/step - loss: 0.0569 - accuracy: 0.9822 - val_loss: 2.8851 - val_accuracy: 0.7017\n",
            "Epoch 77/100\n",
            "800/800 [==============================] - 63s 79ms/step - loss: 0.0610 - accuracy: 0.9813 - val_loss: 2.7641 - val_accuracy: 0.7029\n",
            "Epoch 78/100\n",
            "800/800 [==============================] - 64s 80ms/step - loss: 0.0571 - accuracy: 0.9829 - val_loss: 2.8894 - val_accuracy: 0.6986\n",
            "Epoch 79/100\n",
            "800/800 [==============================] - 63s 78ms/step - loss: 0.0597 - accuracy: 0.9818 - val_loss: 2.8781 - val_accuracy: 0.6924\n",
            "Epoch 80/100\n",
            "800/800 [==============================] - 62s 78ms/step - loss: 0.0495 - accuracy: 0.9850 - val_loss: 2.9539 - val_accuracy: 0.6961\n",
            "Epoch 81/100\n",
            "800/800 [==============================] - 66s 82ms/step - loss: 0.0626 - accuracy: 0.9804 - val_loss: 2.7775 - val_accuracy: 0.7026\n",
            "Epoch 82/100\n",
            "800/800 [==============================] - 62s 78ms/step - loss: 0.0567 - accuracy: 0.9822 - val_loss: 3.0397 - val_accuracy: 0.6984\n",
            "Epoch 83/100\n",
            "800/800 [==============================] - 62s 78ms/step - loss: 0.0558 - accuracy: 0.9835 - val_loss: 2.8420 - val_accuracy: 0.6987\n",
            "Epoch 84/100\n",
            "800/800 [==============================] - 65s 81ms/step - loss: 0.0564 - accuracy: 0.9826 - val_loss: 2.9689 - val_accuracy: 0.7049\n",
            "Epoch 85/100\n",
            "800/800 [==============================] - 62s 78ms/step - loss: 0.0542 - accuracy: 0.9831 - val_loss: 2.9612 - val_accuracy: 0.7032\n",
            "Epoch 86/100\n",
            "800/800 [==============================] - 63s 79ms/step - loss: 0.0554 - accuracy: 0.9835 - val_loss: 2.9510 - val_accuracy: 0.7011\n",
            "Epoch 87/100\n",
            "800/800 [==============================] - 66s 83ms/step - loss: 0.0589 - accuracy: 0.9814 - val_loss: 2.9474 - val_accuracy: 0.7001\n",
            "Epoch 88/100\n",
            "800/800 [==============================] - 63s 79ms/step - loss: 0.0545 - accuracy: 0.9839 - val_loss: 2.9672 - val_accuracy: 0.6997\n",
            "Epoch 89/100\n",
            "800/800 [==============================] - 63s 79ms/step - loss: 0.0575 - accuracy: 0.9824 - val_loss: 2.9775 - val_accuracy: 0.6938\n",
            "Epoch 90/100\n",
            "800/800 [==============================] - 66s 82ms/step - loss: 0.0534 - accuracy: 0.9837 - val_loss: 2.9561 - val_accuracy: 0.7015\n",
            "Epoch 91/100\n",
            "800/800 [==============================] - 63s 79ms/step - loss: 0.0494 - accuracy: 0.9844 - val_loss: 2.9509 - val_accuracy: 0.6980\n",
            "Epoch 92/100\n",
            "800/800 [==============================] - 62s 78ms/step - loss: 0.0547 - accuracy: 0.9833 - val_loss: 2.8627 - val_accuracy: 0.6919\n",
            "Epoch 93/100\n",
            "800/800 [==============================] - 66s 82ms/step - loss: 0.0467 - accuracy: 0.9852 - val_loss: 3.1051 - val_accuracy: 0.6920\n",
            "Epoch 94/100\n",
            "800/800 [==============================] - 63s 79ms/step - loss: 0.0481 - accuracy: 0.9849 - val_loss: 3.0386 - val_accuracy: 0.6992\n",
            "Epoch 95/100\n",
            "800/800 [==============================] - 62s 77ms/step - loss: 0.0615 - accuracy: 0.9804 - val_loss: 2.9129 - val_accuracy: 0.6918\n",
            "Epoch 96/100\n",
            "800/800 [==============================] - 66s 82ms/step - loss: 0.0526 - accuracy: 0.9839 - val_loss: 3.0665 - val_accuracy: 0.6961\n",
            "Epoch 97/100\n",
            "800/800 [==============================] - 63s 78ms/step - loss: 0.0533 - accuracy: 0.9837 - val_loss: 3.0744 - val_accuracy: 0.6844\n",
            "Epoch 98/100\n",
            "800/800 [==============================] - 63s 78ms/step - loss: 0.0593 - accuracy: 0.9821 - val_loss: 3.0106 - val_accuracy: 0.7012\n",
            "Epoch 99/100\n",
            "800/800 [==============================] - 65s 82ms/step - loss: 0.0466 - accuracy: 0.9865 - val_loss: 3.0266 - val_accuracy: 0.7063\n",
            "Epoch 100/100\n",
            "800/800 [==============================] - 62s 78ms/step - loss: 0.0459 - accuracy: 0.9865 - val_loss: 3.0320 - val_accuracy: 0.6958\n"
          ]
        }
      ]
    },
    {
      "cell_type": "markdown",
      "source": [
        "# Generate generalization metrics"
      ],
      "metadata": {
        "id": "VXjtRojivpi0"
      }
    },
    {
      "cell_type": "code",
      "source": [
        "score = model.evaluate(input_test, target_test, verbose=0)\n",
        "print(f'Test loss: {score[0]:.4f} / Test accuracy: {score[1]:.4f}')\n"
      ],
      "metadata": {
        "colab": {
          "base_uri": "https://localhost:8080/"
        },
        "id": "Lrz2jFEMvtND",
        "outputId": "f6a927ff-bd8c-4e5f-860e-e06184d46b26"
      },
      "execution_count": null,
      "outputs": [
        {
          "output_type": "stream",
          "name": "stdout",
          "text": [
            "Test loss: 3.1205 / Test accuracy: 0.6879\n"
          ]
        }
      ]
    },
    {
      "cell_type": "markdown",
      "source": [
        "# Visualize history"
      ],
      "metadata": {
        "id": "rXTvjkJjvwsL"
      }
    },
    {
      "cell_type": "code",
      "source": [
        "\n",
        "# Plot history: Loss\n",
        "plt.plot(history.history['val_loss'])\n",
        "plt\n"
      ],
      "metadata": {
        "colab": {
          "base_uri": "https://localhost:8080/",
          "height": 282
        },
        "id": "CrHa8NgmunIw",
        "outputId": "75f2f2f4-dd18-4954-e2f6-59b70b76da46"
      },
      "execution_count": null,
      "outputs": [
        {
          "output_type": "execute_result",
          "data": {
            "text/plain": [
              "<module 'matplotlib.pyplot' from '/usr/local/lib/python3.8/dist-packages/matplotlib/pyplot.py'>"
            ]
          },
          "metadata": {},
          "execution_count": 22
        },
        {
          "output_type": "display_data",
          "data": {
            "text/plain": [
              "<Figure size 432x288 with 1 Axes>"
            ],
            "image/png": "[encoded data removed]"
          },
          "metadata": {
            "needs_background": "light"
          }
        }
      ]
    }
  ],
  "metadata": {
    "colab": {
      "provenance": [],
      "authorship_tag": "ABX9TyOOk1np/W7nmnJxlCxFRIPt",
      "include_colab_link": true
    },
    "kernelspec": {
      "display_name": "Python 3",
      "name": "python3"
    },
    "language_info": {
      "name": "python"
    }
  },
  "nbformat": 4,
  "nbformat_minor": 0
}